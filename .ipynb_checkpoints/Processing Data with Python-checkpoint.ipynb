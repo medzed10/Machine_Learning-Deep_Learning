{
 "cells": [
  {
   "cell_type": "code",
   "execution_count": 22,
   "id": "d4ab6ac4",
   "metadata": {},
   "outputs": [
    {
     "ename": "SyntaxError",
     "evalue": "invalid syntax (Temp/ipykernel_19000/3111308621.py, line 1)",
     "output_type": "error",
     "traceback": [
      "\u001b[1;36m  File \u001b[1;32m\"C:\\Users\\PC\\AppData\\Local\\Temp/ipykernel_19000/3111308621.py\"\u001b[1;36m, line \u001b[1;32m1\u001b[0m\n\u001b[1;33m    Project Structure\u001b[0m\n\u001b[1;37m            ^\u001b[0m\n\u001b[1;31mSyntaxError\u001b[0m\u001b[1;31m:\u001b[0m invalid syntax\n"
     ]
    }
   ],
   "source": [
    "# #Project Structure\n",
    "\n",
    "#The hands on project on Processing Data with Python is divided into following tasks:\n",
    "# Task 1: Create a Pandas DataFrame    \n",
    "# Task 2: Read Data from Files    \n",
    "# Task 3: Cleaning Data    \n",
    "# Task 4: Data Analysis    \n",
    "# Task 5: Data Subset"
   ]
  },
  {
   "cell_type": "code",
   "execution_count": 1,
   "id": "9b4a8a25",
   "metadata": {},
   "outputs": [],
   "source": [
    "import pandas as pd"
   ]
  },
  {
   "cell_type": "code",
   "execution_count": 2,
   "id": "672838ed",
   "metadata": {},
   "outputs": [],
   "source": [
    "## Create a key-value collection of series to use \n",
    "data = {\"Month\":pd.Series(['January','February','March','April','May','June','July','August','September','October','November','December']),\n",
    "       \"Rainfall\":pd.Series([1.65,1.25,1.94,2.75,2.75,3.65,5.05,1.50,1.33,0.07,0.05,2.30]),}"
   ]
  },
  {
   "cell_type": "code",
   "execution_count": 3,
   "id": "b0b3dc28",
   "metadata": {},
   "outputs": [
    {
     "name": "stdout",
     "output_type": "stream",
     "text": [
      "Our data frame:\n",
      "        Month  Rainfall\n",
      "0     January      1.65\n",
      "1    February      1.25\n",
      "2       March      1.94\n",
      "3       April      2.75\n",
      "4         May      2.75\n",
      "5        June      3.65\n",
      "6        July      5.05\n",
      "7      August      1.50\n",
      "8   September      1.33\n",
      "9     October      0.07\n",
      "10   November      0.05\n",
      "11   December      2.30 \n",
      "\n"
     ]
    }
   ],
   "source": [
    "## Create a DataFrame using the static data \n",
    "df = pd.DataFrame(data)\n",
    "print(\"Our data frame:\")\n",
    "print(df,\"\\n\")"
   ]
  },
  {
   "cell_type": "code",
   "execution_count": 4,
   "id": "8358667e",
   "metadata": {},
   "outputs": [
    {
     "name": "stdout",
     "output_type": "stream",
     "text": [
      "Our data frame:\n",
      "        Month  Rainfall  Temperature\n",
      "0     January      1.65           10\n",
      "1    February      1.25           12\n",
      "2       March      1.94           10\n",
      "3       April      2.75           24\n",
      "4         May      2.75           30\n",
      "5        June      3.65           25\n",
      "6        July      5.05           21\n",
      "7      August      1.50           22\n",
      "8   September      1.33           28\n",
      "9     October      0.07           20\n",
      "10   November      0.05           19\n",
      "11   December      2.30           20 \n",
      "\n"
     ]
    }
   ],
   "source": [
    "## Create a DataFrame usin CSV File\n",
    "dfc=pd.read_csv('Rain.csv')\n",
    "print(\"Our data frame:\")\n",
    "print(dfc,\"\\n\")"
   ]
  },
  {
   "cell_type": "code",
   "execution_count": 5,
   "id": "c6f52787",
   "metadata": {},
   "outputs": [
    {
     "name": "stdout",
     "output_type": "stream",
     "text": [
      "Our data frame:\n",
      "        Month  Rainfall  Temperature\n",
      "0     January     1.650          3.0\n",
      "1    February     1.250         10.0\n",
      "2       March     1.940         15.0\n",
      "3       April     2.750         20.0\n",
      "4         May     2.750         25.0\n",
      "5        June     3.645         24.0\n",
      "6        July     5.500         30.0\n",
      "7      August     1.000          1.0\n",
      "8   September     1.300         33.0\n",
      "9     October       NaN          NaN\n",
      "10   November     0.500         32.0\n",
      "11   December     2.300          2.3 \n",
      "\n"
     ]
    }
   ],
   "source": [
    "## Create a DataFrame usin JSON File\n",
    "df=pd.read_json('Data.json')\n",
    "print(\"Our data frame:\")\n",
    "print(df,\"\\n\")"
   ]
  },
  {
   "cell_type": "code",
   "execution_count": 6,
   "id": "e8972972",
   "metadata": {},
   "outputs": [
    {
     "name": "stdout",
     "output_type": "stream",
     "text": [
      "Our data frame:\n",
      "        Month  Rainfall  Temperature\n",
      "0     January     1.650          3.0\n",
      "1    February     1.250         10.0\n",
      "2       March     1.940         15.0\n",
      "3       April     2.750         20.0\n",
      "4         May     2.750         25.0\n",
      "5        June     3.645         24.0\n",
      "6        July     5.500         30.0\n",
      "7      August     1.000          1.0\n",
      "8   September     1.300         33.0\n",
      "9     October     0.000          0.0\n",
      "10   November     0.500         32.0\n",
      "11   December     2.300          2.3 \n",
      "\n"
     ]
    }
   ],
   "source": [
    "## Fil in the missing values with zeros\n",
    "dfzeros = df.fillna(0)\n",
    "print(\"Our data frame:\")\n",
    "print(dfzeros,\"\\n\")\n",
    "\n",
    "# The fillna() method replaces the NULL values with a specified value"
   ]
  },
  {
   "cell_type": "code",
   "execution_count": 7,
   "id": "a0eba40d",
   "metadata": {},
   "outputs": [
    {
     "name": "stdout",
     "output_type": "stream",
     "text": [
      "Our data frame:\n",
      "        Month  Rainfall  Temperature\n",
      "0     January     1.650          3.0\n",
      "1    February     1.250         10.0\n",
      "2       March     1.940         15.0\n",
      "3       April     2.750         20.0\n",
      "4         May     2.750         25.0\n",
      "5        June     3.645         24.0\n",
      "6        July     5.500         30.0\n",
      "7      August     1.000          1.0\n",
      "8   September     1.300         33.0\n",
      "10   November     0.500         32.0\n",
      "11   December     2.300          2.3 \n",
      "\n"
     ]
    }
   ],
   "source": [
    "##remove rows with the missing values \n",
    "dfclean = df.dropna()\n",
    "print(\"Our data frame:\")\n",
    "print(dfclean,\"\\n\")\n",
    "\n",
    "#The dropna() method removes the rows that contains NULL values"
   ]
  },
  {
   "cell_type": "code",
   "execution_count": 8,
   "id": "412b1d55",
   "metadata": {},
   "outputs": [
    {
     "name": "stdout",
     "output_type": "stream",
     "text": [
      "\n",
      " Number of rows with Nans: 1\n"
     ]
    }
   ],
   "source": [
    "#Create a count of all rows contains Nans\n",
    "df=pd.read_json('Data.json')\n",
    "\n",
    "count = 0\n",
    "for index,row in df.iterrows():\n",
    "    if any(row.isnull()):\n",
    "        count=count+1\n",
    "print(\"\\n Number of rows with Nans: \"+str(count))"
   ]
  },
  {
   "cell_type": "code",
   "execution_count": 9,
   "id": "11d220c7",
   "metadata": {},
   "outputs": [],
   "source": [
    "#DATA ANALYSIS"
   ]
  },
  {
   "cell_type": "code",
   "execution_count": 11,
   "id": "2f671062",
   "metadata": {},
   "outputs": [
    {
     "name": "stdout",
     "output_type": "stream",
     "text": [
      "Mean:\n",
      "Rainfall        2.235000\n",
      "Temperature    17.754545\n",
      "dtype: float64\n",
      "\n",
      " Median:\n",
      "Rainfall        1.94\n",
      "Temperature    20.00\n",
      "dtype: float64\n",
      "\n",
      " Median:\n",
      "Rainfall        1.413936\n",
      "Temperature    12.193553\n",
      "dtype: float64\n"
     ]
    },
    {
     "name": "stderr",
     "output_type": "stream",
     "text": [
      "C:\\Users\\PC\\AppData\\Local\\Temp/ipykernel_19000/863923048.py:3: FutureWarning: Dropping of nuisance columns in DataFrame reductions (with 'numeric_only=None') is deprecated; in a future version this will raise TypeError.  Select only valid columns before calling the reduction.\n",
      "  print(dfclean.mean())\n",
      "C:\\Users\\PC\\AppData\\Local\\Temp/ipykernel_19000/863923048.py:6: FutureWarning: Dropping of nuisance columns in DataFrame reductions (with 'numeric_only=None') is deprecated; in a future version this will raise TypeError.  Select only valid columns before calling the reduction.\n",
      "  print(dfclean.median())\n",
      "C:\\Users\\PC\\AppData\\Local\\Temp/ipykernel_19000/863923048.py:9: FutureWarning: Dropping of nuisance columns in DataFrame reductions (with 'numeric_only=None') is deprecated; in a future version this will raise TypeError.  Select only valid columns before calling the reduction.\n",
      "  print(dfclean.std())\n"
     ]
    }
   ],
   "source": [
    "#Mean\n",
    "print(\"Mean:\")\n",
    "print(dfclean.mean())\n",
    "#Median\n",
    "print(\"\\n Median:\")\n",
    "print(dfclean.median())\n",
    "#Standard deviation \n",
    "print(\"\\n Median:\")\n",
    "print(dfclean.std())\n"
   ]
  },
  {
   "cell_type": "code",
   "execution_count": 15,
   "id": "2da84890",
   "metadata": {},
   "outputs": [
    {
     "data": {
      "text/html": [
       "<div>\n",
       "<style scoped>\n",
       "    .dataframe tbody tr th:only-of-type {\n",
       "        vertical-align: middle;\n",
       "    }\n",
       "\n",
       "    .dataframe tbody tr th {\n",
       "        vertical-align: top;\n",
       "    }\n",
       "\n",
       "    .dataframe thead th {\n",
       "        text-align: right;\n",
       "    }\n",
       "</style>\n",
       "<table border=\"1\" class=\"dataframe\">\n",
       "  <thead>\n",
       "    <tr style=\"text-align: right;\">\n",
       "      <th></th>\n",
       "      <th>Month</th>\n",
       "      <th>Rainfall</th>\n",
       "      <th>Temperature</th>\n",
       "    </tr>\n",
       "  </thead>\n",
       "  <tbody>\n",
       "    <tr>\n",
       "      <th>0</th>\n",
       "      <td>January</td>\n",
       "      <td>1.650</td>\n",
       "      <td>3.0</td>\n",
       "    </tr>\n",
       "    <tr>\n",
       "      <th>1</th>\n",
       "      <td>February</td>\n",
       "      <td>1.250</td>\n",
       "      <td>10.0</td>\n",
       "    </tr>\n",
       "    <tr>\n",
       "      <th>2</th>\n",
       "      <td>March</td>\n",
       "      <td>1.940</td>\n",
       "      <td>15.0</td>\n",
       "    </tr>\n",
       "    <tr>\n",
       "      <th>3</th>\n",
       "      <td>April</td>\n",
       "      <td>2.750</td>\n",
       "      <td>20.0</td>\n",
       "    </tr>\n",
       "    <tr>\n",
       "      <th>4</th>\n",
       "      <td>May</td>\n",
       "      <td>2.750</td>\n",
       "      <td>25.0</td>\n",
       "    </tr>\n",
       "    <tr>\n",
       "      <th>5</th>\n",
       "      <td>June</td>\n",
       "      <td>3.645</td>\n",
       "      <td>24.0</td>\n",
       "    </tr>\n",
       "    <tr>\n",
       "      <th>6</th>\n",
       "      <td>July</td>\n",
       "      <td>5.500</td>\n",
       "      <td>30.0</td>\n",
       "    </tr>\n",
       "    <tr>\n",
       "      <th>7</th>\n",
       "      <td>August</td>\n",
       "      <td>1.000</td>\n",
       "      <td>1.0</td>\n",
       "    </tr>\n",
       "    <tr>\n",
       "      <th>8</th>\n",
       "      <td>September</td>\n",
       "      <td>1.300</td>\n",
       "      <td>33.0</td>\n",
       "    </tr>\n",
       "    <tr>\n",
       "      <th>9</th>\n",
       "      <td>October</td>\n",
       "      <td>NaN</td>\n",
       "      <td>NaN</td>\n",
       "    </tr>\n",
       "    <tr>\n",
       "      <th>10</th>\n",
       "      <td>November</td>\n",
       "      <td>0.500</td>\n",
       "      <td>32.0</td>\n",
       "    </tr>\n",
       "    <tr>\n",
       "      <th>11</th>\n",
       "      <td>December</td>\n",
       "      <td>2.300</td>\n",
       "      <td>2.3</td>\n",
       "    </tr>\n",
       "  </tbody>\n",
       "</table>\n",
       "</div>"
      ],
      "text/plain": [
       "        Month  Rainfall  Temperature\n",
       "0     January     1.650          3.0\n",
       "1    February     1.250         10.0\n",
       "2       March     1.940         15.0\n",
       "3       April     2.750         20.0\n",
       "4         May     2.750         25.0\n",
       "5        June     3.645         24.0\n",
       "6        July     5.500         30.0\n",
       "7      August     1.000          1.0\n",
       "8   September     1.300         33.0\n",
       "9     October       NaN          NaN\n",
       "10   November     0.500         32.0\n",
       "11   December     2.300          2.3"
      ]
     },
     "execution_count": 15,
     "metadata": {},
     "output_type": "execute_result"
    }
   ],
   "source": [
    "#Selecting part of a Dataframe\n",
    "df"
   ]
  },
  {
   "cell_type": "code",
   "execution_count": 20,
   "id": "28c7cc12",
   "metadata": {},
   "outputs": [
    {
     "name": "stdout",
     "output_type": "stream",
     "text": [
      "Rainfall \n",
      " 0    1.65\n",
      "1    1.25\n",
      "2    1.94\n",
      "Name: Rainfall, dtype: float64\n",
      "rainfall Mean \n",
      " 1.6133333333333333\n"
     ]
    }
   ],
   "source": [
    "#Print  the rainfall and the main for first few months \n",
    "dfrainfall = dfclean[\"Rainfall\"][0:3]\n",
    "print(\"Rainfall \\n\",dfrainfall)\n",
    "print(\"rainfall Mean \\n\",dfrainfall.mean())"
   ]
  },
  {
   "cell_type": "code",
   "execution_count": 21,
   "id": "bd7a2b89",
   "metadata": {},
   "outputs": [
    {
     "name": "stdout",
     "output_type": "stream",
     "text": [
      "Rainfall and Temperature \n",
      "    Rainfall  Temperature\n",
      "0      1.65          3.0\n",
      "1      1.25         10.0\n",
      "2      1.94         15.0\n",
      "rainfall  and Temperature Mean \n",
      " Rainfall       1.613333\n",
      "Temperature    9.333333\n",
      "dtype: float64\n"
     ]
    }
   ],
   "source": [
    "#Print  the rainfall/Temperature and the main for first few months \n",
    "dftemprain = dfclean[[\"Rainfall\",\"Temperature\" ]][0:3]\n",
    "print(\"Rainfall and Temperature \\n\",dftemprain)\n",
    "print(\"rainfall  and Temperature Mean \\n\",dftemprain.mean())"
   ]
  },
  {
   "cell_type": "code",
   "execution_count": null,
   "id": "8c721785",
   "metadata": {},
   "outputs": [],
   "source": []
  }
 ],
 "metadata": {
  "kernelspec": {
   "display_name": "Python 3 (ipykernel)",
   "language": "python",
   "name": "python3"
  },
  "language_info": {
   "codemirror_mode": {
    "name": "ipython",
    "version": 3
   },
   "file_extension": ".py",
   "mimetype": "text/x-python",
   "name": "python",
   "nbconvert_exporter": "python",
   "pygments_lexer": "ipython3",
   "version": "3.9.7"
  }
 },
 "nbformat": 4,
 "nbformat_minor": 5
}
